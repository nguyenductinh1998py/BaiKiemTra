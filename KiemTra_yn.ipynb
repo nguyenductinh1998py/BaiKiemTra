{
  "nbformat": 4,
  "nbformat_minor": 0,
  "metadata": {
    "colab": {
      "name": "KiemTra.yn",
      "provenance": [],
      "collapsed_sections": []
    },
    "kernelspec": {
      "name": "python3",
      "display_name": "Python 3"
    }
  },
  "cells": [
    {
      "cell_type": "code",
      "metadata": {
        "colab": {
          "base_uri": "https://localhost:8080/"
        },
        "id": "Z89keA00LnVg",
        "outputId": "35f211c4-e694-4da3-9df6-e159f457c8ba"
      },
      "source": [
        "#Câu 4 A\r\n",
        "import pandas as pd\r\n",
        "data = pd.read_csv(\"drive/MyDrive/mobile_data.csv\", delimiter=\",\", skiprows =0)\r\n",
        "\r\n",
        "print(data.head(5))\r\n",
        "print(data.tail(5))\r\n"
      ],
      "execution_count": null,
      "outputs": [
        {
          "output_type": "stream",
          "text": [
            "   index      company   body-style  ...  horsepower  average-mileage    price\n",
            "0      0  alfa-romero  convertible  ...         111               21  13495.0\n",
            "1      1  alfa-romero  convertible  ...         111               21  16500.0\n",
            "2      2  alfa-romero    hatchback  ...         154               19  16500.0\n",
            "3      3         audi        sedan  ...         102               24  13950.0\n",
            "4      4         audi        sedan  ...         115               18  17450.0\n",
            "\n",
            "[5 rows x 10 columns]\n",
            "    index     company body-style  ...  horsepower  average-mileage    price\n",
            "56     81  volkswagen      sedan  ...          85               27   7975.0\n",
            "57     82  volkswagen      sedan  ...          52               37   7995.0\n",
            "58     86  volkswagen      sedan  ...         100               26   9995.0\n",
            "59     87       volvo      sedan  ...         114               23  12940.0\n",
            "60     88       volvo      wagon  ...         114               23  13415.0\n",
            "\n",
            "[5 rows x 10 columns]\n"
          ],
          "name": "stdout"
        }
      ]
    },
    {
      "cell_type": "code",
      "metadata": {
        "colab": {
          "base_uri": "https://localhost:8080/"
        },
        "id": "Dy05MobPQyUX",
        "outputId": "d8a85b7e-8b79-4faf-ac7f-4619d5f5a675"
      },
      "source": [
        "#Câu 4 D\r\n",
        "print(data['company'].value_counts())\r\n",
        "#print(data['company'].value_counts().plot(kind='bar'))"
      ],
      "execution_count": null,
      "outputs": [
        {
          "output_type": "stream",
          "text": [
            "toyota           7\n",
            "bmw              6\n",
            "nissan           5\n",
            "mazda            5\n",
            "audi             4\n",
            "volkswagen       4\n",
            "mercedes-benz    4\n",
            "mitsubishi       4\n",
            "alfa-romero      3\n",
            "jaguar           3\n",
            "isuzu            3\n",
            "honda            3\n",
            "porsche          3\n",
            "chevrolet        3\n",
            "volvo            2\n",
            "dodge            2\n",
            "Name: company, dtype: int64\n"
          ],
          "name": "stdout"
        }
      ]
    },
    {
      "cell_type": "code",
      "metadata": {
        "colab": {
          "base_uri": "https://localhost:8080/",
          "height": 202
        },
        "id": "_cW_wuD-NOKa",
        "outputId": "c3cee504-945a-4300-9f67-8914982f5637"
      },
      "source": [
        "#Câu 4 B\r\n",
        "data = pd.read_csv(\"drive/MyDrive/mobile_data.csv\", delimiter=\",\", skiprows =0)\r\n",
        "data = pd.read_csv(\"drive/MyDrive/mobile_data.csv\", delimiter=\",\", skiprows =0 ,na_values={\r\n",
        "'price':[\"?\",\"n.a\"],\r\n",
        "'stroke':[\"?\",\"n.a\"],\r\n",
        "'horsepower':[\"?\",\"n.a\"],\r\n",
        "'peak-rpm':[\"?\",\"n.a\"],\r\n",
        "'average-mileage':[\"?\",\"n.a\"]})\r\n",
        "data.head(5)"
      ],
      "execution_count": null,
      "outputs": [
        {
          "output_type": "execute_result",
          "data": {
            "text/html": [
              "<div>\n",
              "<style scoped>\n",
              "    .dataframe tbody tr th:only-of-type {\n",
              "        vertical-align: middle;\n",
              "    }\n",
              "\n",
              "    .dataframe tbody tr th {\n",
              "        vertical-align: top;\n",
              "    }\n",
              "\n",
              "    .dataframe thead th {\n",
              "        text-align: right;\n",
              "    }\n",
              "</style>\n",
              "<table border=\"1\" class=\"dataframe\">\n",
              "  <thead>\n",
              "    <tr style=\"text-align: right;\">\n",
              "      <th></th>\n",
              "      <th>index</th>\n",
              "      <th>company</th>\n",
              "      <th>body-style</th>\n",
              "      <th>wheel-base</th>\n",
              "      <th>length</th>\n",
              "      <th>engine-type</th>\n",
              "      <th>num-of-cylinders</th>\n",
              "      <th>horsepower</th>\n",
              "      <th>average-mileage</th>\n",
              "      <th>price</th>\n",
              "    </tr>\n",
              "  </thead>\n",
              "  <tbody>\n",
              "    <tr>\n",
              "      <th>0</th>\n",
              "      <td>0</td>\n",
              "      <td>alfa-romero</td>\n",
              "      <td>convertible</td>\n",
              "      <td>88.6</td>\n",
              "      <td>168.8</td>\n",
              "      <td>dohc</td>\n",
              "      <td>four</td>\n",
              "      <td>111</td>\n",
              "      <td>21</td>\n",
              "      <td>13495.0</td>\n",
              "    </tr>\n",
              "    <tr>\n",
              "      <th>1</th>\n",
              "      <td>1</td>\n",
              "      <td>alfa-romero</td>\n",
              "      <td>convertible</td>\n",
              "      <td>88.6</td>\n",
              "      <td>168.8</td>\n",
              "      <td>dohc</td>\n",
              "      <td>four</td>\n",
              "      <td>111</td>\n",
              "      <td>21</td>\n",
              "      <td>16500.0</td>\n",
              "    </tr>\n",
              "    <tr>\n",
              "      <th>2</th>\n",
              "      <td>2</td>\n",
              "      <td>alfa-romero</td>\n",
              "      <td>hatchback</td>\n",
              "      <td>94.5</td>\n",
              "      <td>171.2</td>\n",
              "      <td>ohcv</td>\n",
              "      <td>six</td>\n",
              "      <td>154</td>\n",
              "      <td>19</td>\n",
              "      <td>16500.0</td>\n",
              "    </tr>\n",
              "    <tr>\n",
              "      <th>3</th>\n",
              "      <td>3</td>\n",
              "      <td>audi</td>\n",
              "      <td>sedan</td>\n",
              "      <td>99.8</td>\n",
              "      <td>176.6</td>\n",
              "      <td>ohc</td>\n",
              "      <td>four</td>\n",
              "      <td>102</td>\n",
              "      <td>24</td>\n",
              "      <td>13950.0</td>\n",
              "    </tr>\n",
              "    <tr>\n",
              "      <th>4</th>\n",
              "      <td>4</td>\n",
              "      <td>audi</td>\n",
              "      <td>sedan</td>\n",
              "      <td>99.4</td>\n",
              "      <td>176.6</td>\n",
              "      <td>ohc</td>\n",
              "      <td>five</td>\n",
              "      <td>115</td>\n",
              "      <td>18</td>\n",
              "      <td>17450.0</td>\n",
              "    </tr>\n",
              "  </tbody>\n",
              "</table>\n",
              "</div>"
            ],
            "text/plain": [
              "   index      company   body-style  ...  horsepower  average-mileage    price\n",
              "0      0  alfa-romero  convertible  ...         111               21  13495.0\n",
              "1      1  alfa-romero  convertible  ...         111               21  16500.0\n",
              "2      2  alfa-romero    hatchback  ...         154               19  16500.0\n",
              "3      3         audi        sedan  ...         102               24  13950.0\n",
              "4      4         audi        sedan  ...         115               18  17450.0\n",
              "\n",
              "[5 rows x 10 columns]"
            ]
          },
          "metadata": {
            "tags": []
          },
          "execution_count": 59
        }
      ]
    },
    {
      "cell_type": "markdown",
      "metadata": {
        "id": "2TKyMjkgS1h-"
      },
      "source": [
        ""
      ]
    },
    {
      "cell_type": "code",
      "metadata": {
        "colab": {
          "base_uri": "https://localhost:8080/"
        },
        "id": "4exfERiZRA_2",
        "outputId": "89b6661b-3303-4c20-c15d-f65c7c6d51da"
      },
      "source": [
        "#Câu 4 C\r\n",
        "\r\n",
        "a = data[data['price'] == data['price'].max()]\r\n",
        "a['company']"
      ],
      "execution_count": null,
      "outputs": [
        {
          "output_type": "execute_result",
          "data": {
            "text/plain": [
              "35    mercedes-benz\n",
              "Name: company, dtype: object"
            ]
          },
          "metadata": {
            "tags": []
          },
          "execution_count": 63
        }
      ]
    },
    {
      "cell_type": "code",
      "metadata": {
        "colab": {
          "base_uri": "https://localhost:8080/",
          "height": 415
        },
        "id": "GLg3lt6bSHDY",
        "outputId": "02239939-266d-4fd7-aa13-cfb3efae9799"
      },
      "source": [
        "#Câu 4 E\r\n",
        "data = data.sort_values('price', ascending=True)\r\n",
        "data"
      ],
      "execution_count": null,
      "outputs": [
        {
          "output_type": "execute_result",
          "data": {
            "text/html": [
              "<div>\n",
              "<style scoped>\n",
              "    .dataframe tbody tr th:only-of-type {\n",
              "        vertical-align: middle;\n",
              "    }\n",
              "\n",
              "    .dataframe tbody tr th {\n",
              "        vertical-align: top;\n",
              "    }\n",
              "\n",
              "    .dataframe thead th {\n",
              "        text-align: right;\n",
              "    }\n",
              "</style>\n",
              "<table border=\"1\" class=\"dataframe\">\n",
              "  <thead>\n",
              "    <tr style=\"text-align: right;\">\n",
              "      <th></th>\n",
              "      <th>index</th>\n",
              "      <th>company</th>\n",
              "      <th>body-style</th>\n",
              "      <th>wheel-base</th>\n",
              "      <th>length</th>\n",
              "      <th>engine-type</th>\n",
              "      <th>num-of-cylinders</th>\n",
              "      <th>horsepower</th>\n",
              "      <th>average-mileage</th>\n",
              "      <th>price</th>\n",
              "    </tr>\n",
              "  </thead>\n",
              "  <tbody>\n",
              "    <tr>\n",
              "      <th>13</th>\n",
              "      <td>16</td>\n",
              "      <td>chevrolet</td>\n",
              "      <td>hatchback</td>\n",
              "      <td>88.4</td>\n",
              "      <td>141.1</td>\n",
              "      <td>l</td>\n",
              "      <td>three</td>\n",
              "      <td>48</td>\n",
              "      <td>47</td>\n",
              "      <td>5151.0</td>\n",
              "    </tr>\n",
              "    <tr>\n",
              "      <th>27</th>\n",
              "      <td>36</td>\n",
              "      <td>mazda</td>\n",
              "      <td>hatchback</td>\n",
              "      <td>93.1</td>\n",
              "      <td>159.1</td>\n",
              "      <td>ohc</td>\n",
              "      <td>four</td>\n",
              "      <td>68</td>\n",
              "      <td>30</td>\n",
              "      <td>5195.0</td>\n",
              "    </tr>\n",
              "    <tr>\n",
              "      <th>48</th>\n",
              "      <td>66</td>\n",
              "      <td>toyota</td>\n",
              "      <td>hatchback</td>\n",
              "      <td>95.7</td>\n",
              "      <td>158.7</td>\n",
              "      <td>ohc</td>\n",
              "      <td>four</td>\n",
              "      <td>62</td>\n",
              "      <td>35</td>\n",
              "      <td>5348.0</td>\n",
              "    </tr>\n",
              "    <tr>\n",
              "      <th>36</th>\n",
              "      <td>49</td>\n",
              "      <td>mitsubishi</td>\n",
              "      <td>hatchback</td>\n",
              "      <td>93.7</td>\n",
              "      <td>157.3</td>\n",
              "      <td>ohc</td>\n",
              "      <td>four</td>\n",
              "      <td>68</td>\n",
              "      <td>37</td>\n",
              "      <td>5389.0</td>\n",
              "    </tr>\n",
              "    <tr>\n",
              "      <th>28</th>\n",
              "      <td>37</td>\n",
              "      <td>mazda</td>\n",
              "      <td>hatchback</td>\n",
              "      <td>93.1</td>\n",
              "      <td>159.1</td>\n",
              "      <td>ohc</td>\n",
              "      <td>four</td>\n",
              "      <td>68</td>\n",
              "      <td>31</td>\n",
              "      <td>6095.0</td>\n",
              "    </tr>\n",
              "    <tr>\n",
              "      <th>...</th>\n",
              "      <td>...</td>\n",
              "      <td>...</td>\n",
              "      <td>...</td>\n",
              "      <td>...</td>\n",
              "      <td>...</td>\n",
              "      <td>...</td>\n",
              "      <td>...</td>\n",
              "      <td>...</td>\n",
              "      <td>...</td>\n",
              "      <td>...</td>\n",
              "    </tr>\n",
              "    <tr>\n",
              "      <th>11</th>\n",
              "      <td>14</td>\n",
              "      <td>bmw</td>\n",
              "      <td>sedan</td>\n",
              "      <td>103.5</td>\n",
              "      <td>193.8</td>\n",
              "      <td>ohc</td>\n",
              "      <td>six</td>\n",
              "      <td>182</td>\n",
              "      <td>16</td>\n",
              "      <td>41315.0</td>\n",
              "    </tr>\n",
              "    <tr>\n",
              "      <th>35</th>\n",
              "      <td>47</td>\n",
              "      <td>mercedes-benz</td>\n",
              "      <td>hardtop</td>\n",
              "      <td>112.0</td>\n",
              "      <td>199.2</td>\n",
              "      <td>ohcv</td>\n",
              "      <td>eight</td>\n",
              "      <td>184</td>\n",
              "      <td>14</td>\n",
              "      <td>45400.0</td>\n",
              "    </tr>\n",
              "    <tr>\n",
              "      <th>22</th>\n",
              "      <td>31</td>\n",
              "      <td>isuzu</td>\n",
              "      <td>sedan</td>\n",
              "      <td>94.5</td>\n",
              "      <td>155.9</td>\n",
              "      <td>ohc</td>\n",
              "      <td>four</td>\n",
              "      <td>70</td>\n",
              "      <td>38</td>\n",
              "      <td>NaN</td>\n",
              "    </tr>\n",
              "    <tr>\n",
              "      <th>23</th>\n",
              "      <td>32</td>\n",
              "      <td>isuzu</td>\n",
              "      <td>sedan</td>\n",
              "      <td>94.5</td>\n",
              "      <td>155.9</td>\n",
              "      <td>ohc</td>\n",
              "      <td>four</td>\n",
              "      <td>70</td>\n",
              "      <td>38</td>\n",
              "      <td>NaN</td>\n",
              "    </tr>\n",
              "    <tr>\n",
              "      <th>47</th>\n",
              "      <td>63</td>\n",
              "      <td>porsche</td>\n",
              "      <td>hatchback</td>\n",
              "      <td>98.4</td>\n",
              "      <td>175.7</td>\n",
              "      <td>dohcv</td>\n",
              "      <td>eight</td>\n",
              "      <td>288</td>\n",
              "      <td>17</td>\n",
              "      <td>NaN</td>\n",
              "    </tr>\n",
              "  </tbody>\n",
              "</table>\n",
              "<p>61 rows × 10 columns</p>\n",
              "</div>"
            ],
            "text/plain": [
              "    index        company body-style  ...  horsepower  average-mileage    price\n",
              "13     16      chevrolet  hatchback  ...          48               47   5151.0\n",
              "27     36          mazda  hatchback  ...          68               30   5195.0\n",
              "48     66         toyota  hatchback  ...          62               35   5348.0\n",
              "36     49     mitsubishi  hatchback  ...          68               37   5389.0\n",
              "28     37          mazda  hatchback  ...          68               31   6095.0\n",
              "..    ...            ...        ...  ...         ...              ...      ...\n",
              "11     14            bmw      sedan  ...         182               16  41315.0\n",
              "35     47  mercedes-benz    hardtop  ...         184               14  45400.0\n",
              "22     31          isuzu      sedan  ...          70               38      NaN\n",
              "23     32          isuzu      sedan  ...          70               38      NaN\n",
              "47     63        porsche  hatchback  ...         288               17      NaN\n",
              "\n",
              "[61 rows x 10 columns]"
            ]
          },
          "metadata": {
            "tags": []
          },
          "execution_count": 23
        }
      ]
    },
    {
      "cell_type": "code",
      "metadata": {
        "colab": {
          "base_uri": "https://localhost:8080/"
        },
        "id": "NJsSaUQ4MYRQ",
        "outputId": "b7d94b86-0c23-4e8d-ec1d-9dc1f842c428"
      },
      "source": [
        "# Câu 1 Viết hàm lấy List từ ListA bỏ đi giá trị 10\r\n",
        "ListA = [1, 10, 20, 5, 60, 30, 10, 9, 10]\r\n",
        "ListB = []\r\n",
        "for x in ListA:\r\n",
        "    if x == 10:\r\n",
        "        continue\r\n",
        "    ListB.append(x)\r\n",
        "print(ListB)"
      ],
      "execution_count": null,
      "outputs": [
        {
          "output_type": "stream",
          "text": [
            "[1, 20, 5, 60, 30, 9]\n"
          ],
          "name": "stdout"
        }
      ]
    },
    {
      "cell_type": "code",
      "metadata": {
        "colab": {
          "base_uri": "https://localhost:8080/"
        },
        "id": "JT9EvishMYem",
        "outputId": "7562e49a-1698-4dc3-e71d-08616ee22f75"
      },
      "source": [
        "# Câu 2  Chuyển List1, List2 sang Dictionary\r\n",
        "List1 = ['A', 'B', 'C', 'D', 'E', 'F']\r\n",
        "List2 = [1, 2 ,3 ,4 ,5 ,6 ]\r\n",
        "Dict1 = {}\r\n",
        "\r\n",
        "i = 0\r\n",
        "while i < len(List1): \r\n",
        "    #Dict1[List1[i]] = List2[i]\r\n",
        "    Dict1.update({List1[i]: List2[i]})\r\n",
        "    i+=1\r\n",
        "\r\n",
        "print(Dict1)\r\n"
      ],
      "execution_count": null,
      "outputs": [
        {
          "output_type": "stream",
          "text": [
            "{'A': 1, 'B': 2, 'C': 3, 'D': 4, 'E': 5, 'F': 6}\n"
          ],
          "name": "stdout"
        }
      ]
    },
    {
      "cell_type": "code",
      "metadata": {
        "colab": {
          "base_uri": "https://localhost:8080/"
        },
        "id": "ma8-rIODMYnn",
        "outputId": "1fb8b72b-6a9a-4ec1-ad6c-64b9e6381c20"
      },
      "source": [
        "# Câu 3 Xóa các key trong Key remove ra khỏi persion\r\n",
        "person = {\r\n",
        "    'name': 'Quoc Nam',\r\n",
        "    'age':'28',\r\n",
        "    'salary': '8000',\r\n",
        "    'city': 'Tuy Hoa'\r\n",
        "}\r\n",
        "KeyToRemove = ['salary', 'city']\r\n",
        "def DeleKeyOfDict(person , KeyToRemove):\r\n",
        "    # i = 0\r\n",
        "    # while i < len(KeyToRemove):\r\n",
        "    #     if KeyToRemove[i] in person:\r\n",
        "    #         del person[KeyToRemove[i]]\r\n",
        "    #     i += 1\r\n",
        "    # print(person)\r\n",
        "    for x in KeyToRemove:\r\n",
        "        if x in person:\r\n",
        "            del person[x]\r\n",
        "    print(person)\r\n",
        "DeleKeyOfDict(person, KeyToRemove)"
      ],
      "execution_count": null,
      "outputs": [
        {
          "output_type": "stream",
          "text": [
            "{'name': 'Quoc Nam', 'age': '28'}\n"
          ],
          "name": "stdout"
        }
      ]
    }
  ]
}